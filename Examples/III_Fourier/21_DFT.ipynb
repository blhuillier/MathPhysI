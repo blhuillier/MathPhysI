{
 "cells": [
  {
   "cell_type": "markdown",
   "id": "fe794c60",
   "metadata": {},
   "source": [
    "[![Open In Colab](https://colab.research.google.com/assets/colab-badge.svg)](\n",
    "  https://colab.research.google.com/github/blhuillier/MathPhysI/blob/main/Examples/III_Fourier/21_DFT.ipynb\n",
    ")"
   ]
  },
  {
   "cell_type": "markdown",
   "id": "6ffa4e66",
   "metadata": {},
   "source": []
  }
 ],
 "metadata": {
  "language_info": {
   "name": "python"
  }
 },
 "nbformat": 4,
 "nbformat_minor": 5
}
