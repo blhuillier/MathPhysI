{
 "cells": [
  {
   "cell_type": "markdown",
   "id": "add3b3d5",
   "metadata": {},
   "source": [
    "# Assignment 4\n"
   ]
  },
  {
   "cell_type": "markdown",
   "id": "ef058ae5",
   "metadata": {},
   "source": []
  },
  {
   "cell_type": "code",
   "execution_count": null,
   "id": "9692ee37",
   "metadata": {},
   "outputs": [],
   "source": []
  },
  {
   "cell_type": "code",
   "execution_count": 25,
   "id": "1537f83f",
   "metadata": {},
   "outputs": [],
   "source": [
    "import sympy as sp"
   ]
  },
  {
   "cell_type": "code",
   "execution_count": 26,
   "id": "06e26be3",
   "metadata": {},
   "outputs": [
    {
     "name": "stdout",
     "output_type": "stream",
     "text": [
      "Matrix([[0, 1, 1, 0], [1, 0, 0, 1], [1, 1, 0, 1], [1, 1, 1, 0]])\n",
      "Determinant(Matrix([\n",
      "[0, 1, 1, 0],\n",
      "[1, 0, 0, 1],\n",
      "[1, 1, 0, 1],\n",
      "[1, 1, 1, 0]]))\n",
      "-1\n",
      "-1\n",
      "-1\n",
      "2\n"
     ]
    }
   ],
   "source": [
    "M1 = sympy.Matrix([[0, 1,1,0], [1,0,0,1], [1,1,0,1],[1,1,1,0]])\n",
    "print (M1)\n",
    "D1 = sympy.Determinant(M1)\n",
    "print (D1)\n",
    "print (D1.doit())\n",
    "\n",
    "D2 = sympy.Determinant(sympy.Matrix([[1, 1,1,1], [0,-1,0,0], [0,0,-1,0],[1,0,0,0]]))\n",
    "print (D2.doit())\n",
    "\n",
    "D3 = -sympy.Determinant(sympy.Matrix([[1,1,1], [-1,0,0], [0,-1,0]]))\n",
    "print (D3.doit())\n",
    "\n",
    "D4 =  +sympy.Determinant(sympy.Matrix([[1,1], [-1,1]]))\n",
    "print (D4.doit())\n"
   ]
  },
  {
   "cell_type": "code",
   "execution_count": 27,
   "id": "20ee799f",
   "metadata": {},
   "outputs": [
    {
     "data": {
      "text/latex": [
       "$\\displaystyle \\left[\\begin{matrix}1 & 1 & 1\\\\-1 & 0 & 0\\\\0 & -1 & 0\\end{matrix}\\right]$"
      ],
      "text/plain": [
       "Matrix([\n",
       "[ 1,  1, 1],\n",
       "[-1,  0, 0],\n",
       "[ 0, -1, 0]])"
      ]
     },
     "execution_count": 27,
     "metadata": {},
     "output_type": "execute_result"
    }
   ],
   "source": [
    "sympy.Matrix([[1,1,1], [-1,0,0], [0,-1,0]])"
   ]
  },
  {
   "cell_type": "code",
   "execution_count": 28,
   "id": "6590d077",
   "metadata": {},
   "outputs": [
    {
     "name": "stdout",
     "output_type": "stream",
     "text": [
      "1\n"
     ]
    }
   ],
   "source": [
    "D1 = sympy.Determinant(sympy.Matrix([[1,0,0,1], [0, 1,1,0],  [1,1,0,1],[1,1,1,0]]))\n",
    "print (D1.doit())"
   ]
  },
  {
   "cell_type": "code",
   "execution_count": 29,
   "id": "985d7e04",
   "metadata": {},
   "outputs": [
    {
     "name": "stdout",
     "output_type": "stream",
     "text": [
      "Upper-triangular matrix after three column ops:\n",
      "⎡a  -a + b  a - b + c  -a + b - c + d⎤\n",
      "⎢                                    ⎥\n",
      "⎢a    0         b          -b + c    ⎥\n",
      "⎢                                    ⎥\n",
      "⎢a    0         a          -a + b    ⎥\n",
      "⎢                                    ⎥\n",
      "⎣a    0         a            0       ⎦\n",
      "\n",
      "Determinant  Δ = 0\n"
     ]
    }
   ],
   "source": [
    "\n",
    "# symbols and original matrix\n",
    "a, b, c, d = sp.symbols('a b c d')\n",
    "M = sp.Matrix([[a, b, c, d],\n",
    "               [a, a, b, c],\n",
    "               [a, a, a, b],\n",
    "               [a, a, a, a]])\n",
    "\n",
    "############################################################################\n",
    "# 1) C₂ ← C₂ − C₁\n",
    "# ----------------------------------------------------------------------------\n",
    "M1 = M.copy()                                       # keep the original intact\n",
    "M1.col_op(1, lambda v, i: v - M1[i, 0])             # (col index starts at 0)\n",
    "\n",
    "############################################################################\n",
    "# 2) C₃ ← C₃ − C₂   (NB: M1 has the new C₂ already)\n",
    "# ----------------------------------------------------------------------------\n",
    "M1.col_op(2, lambda v, i: v - M1[i, 1])\n",
    "\n",
    "############################################################################\n",
    "# 3) C₄ ← C₄ − C₃\n",
    "# ----------------------------------------------------------------------------\n",
    "M1.col_op(3, lambda v, i: v - M1[i, 2])\n",
    "\n",
    "print('Upper-triangular matrix after three column ops:')\n",
    "sp.pprint(M1)\n",
    "\n",
    "# 4) determinant: product of diagonal, since only determinant-preserving\n",
    "#    column operations were used\n",
    "Δ = sp.prod(M1[i, i] for i in range(4))\n",
    "print('\\nDeterminant  Δ =', sp.simplify(Δ))"
   ]
  },
  {
   "cell_type": "code",
   "execution_count": 48,
   "id": "520e2acf",
   "metadata": {},
   "outputs": [
    {
     "name": "stdout",
     "output_type": "stream",
     "text": [
      " 4      2          \n",
      "x  - 6⋅x  + 8⋅x - 3\n",
      "Upper-triangular matrix after three column ops:\n",
      "⎡x  1  1  1⎤\n",
      "⎢          ⎥\n",
      "⎢1  x  1  1⎥\n",
      "⎢          ⎥\n",
      "⎢1  1  x  1⎥\n",
      "⎢          ⎥\n",
      "⎣1  1  1  x⎦\n"
     ]
    }
   ],
   "source": [
    "\n",
    "# symbols and original matrix\n",
    "x= sp.symbols('x')\n",
    "M = sp.Matrix([[x, 1, 1, 1],\n",
    "               [1, x, 1, 1],\n",
    "               [1, 1, x, 1],\n",
    "               [1, 1, 1, x]])\n",
    "sp.pprint(sp.Determinant(M).doit().simplify())\n",
    "\n",
    "############################################################################\n",
    "# 1) C₂ ← C₂ − C₁\n",
    "# ----------------------------------------------------------------------------\n",
    "M1 = M.copy()                                       # keep the original intact\n",
    "# M1.row_op(0, lambda v, i: v - M1[1, i])             # (col index starts at 0)\n",
    "# M1.row_op(1, lambda v, i: v - M1[2, i])             # (col index starts at 0)\n",
    "# M1.row_op(2, lambda v, i: v - M1[3, i])             # (col index starts at 0)\n",
    "# M1.row_op(3, lambda v, i: v - M[0, i])             # (col index starts at 0)\n",
    "# M1.row_op(0, lambda v, i: v + M1[1, i]+ M1[2,i]+M1[3,i])             # (col index starts at 0)\n",
    "\n",
    "# ############################################################################\n",
    "# # 2) C₃ ← C₃ − C₂   (NB: M1 has the new C₂ already)\n",
    "# # ----------------------------------------------------------------------------\n",
    "# M1.col_op(2, lambda v, i: v - M1[i, 1])\n",
    "\n",
    "# ############################################################################\n",
    "# # 3) C₄ ← C₄ − C₃\n",
    "# # ----------------------------------------------------------------------------\n",
    "# M1.col_op(3, lambda v, i: v - M1[i, 2])\n",
    "\n",
    "print('Upper-triangular matrix after three column ops:')\n",
    "sp.pprint(M1)\n",
    "\n",
    "# 4) determinant: product of diagonal, since only determinant-preserving\n",
    "#    column operations were used\n",
    "# Δ = sp.prod(M1[i, i] for i in range(4))\n",
    "# print('\\nDeterminant  Δ =', sp.simplify(Δ))"
   ]
  },
  {
   "cell_type": "code",
   "execution_count": null,
   "id": "b2dbadba",
   "metadata": {},
   "outputs": [],
   "source": []
  },
  {
   "cell_type": "code",
   "execution_count": null,
   "id": "4f9c7baf",
   "metadata": {},
   "outputs": [],
   "source": []
  }
 ],
 "metadata": {
  "kernelspec": {
   "display_name": "base",
   "language": "python",
   "name": "python3"
  },
  "language_info": {
   "codemirror_mode": {
    "name": "ipython",
    "version": 3
   },
   "file_extension": ".py",
   "mimetype": "text/x-python",
   "name": "python",
   "nbconvert_exporter": "python",
   "pygments_lexer": "ipython3",
   "version": "3.13.3"
  }
 },
 "nbformat": 4,
 "nbformat_minor": 5
}
